{
 "cells": [
  {
   "cell_type": "markdown",
   "id": "a74b406a-56ab-46c7-921e-05dff003c8fe",
   "metadata": {},
   "source": [
    "# Conclusion\n",
    "\n",
    "With text mining and analysis tools, I've learned a lot about the cultural footprint of the *transgender* topic in America. The ability to translate the WDMs into wordclouds gave me a powerful tool for capturing the cultural zeitgeist relating to the *transgender* topic. Combining this tool with other forms of analysis, like clustering, topic modelling, and supervized learning models allowed me to look at specific topics, authors, and sentiment and visualize the content of those articles.\n",
    "\n",
    "## Takeaways about the Transgender Cultural Footprint\n",
    "\n",
    "### Words associated with the Transgender topic\n",
    "WordClouds turned out to be an incredibly helpful tool for summarizing and visualizing the vast corpi of news articles relating to the \n",
    "transgender topic. Of these, I think the **WorldNewsAPI** Title-based wordcloud is the most aesthetic summation of the cultural understanding of *transgender*. There's a variety of events and issues surrounding the topic which writers have covered in the past year, giving the viewer a good understanding of the various topics covered in the news, as well as how much each topic was mentioned.\n",
    "\n",
    "There are a few proper nouns referencing specific events, such as *brianna* and *ohio*, relating to two dominant stories related to transgender individuals. The first, the horrific killing of transgender teenager Brianna Ghey, exemplifies the disturbingly high rate of violence against transgender women, an issue relating to transgender rights that should not be ignored. The other proper noun, *ohio*, actually refers to a law restricting so-called *gender-affirming* care (noteably, *genderaffirming* is another dominant word in this wordcloud), a legal precedent which highlights a nation-wide battle-ground relating to transgender rights and priveleges: What kind of medical care transgender minors should be allowed to receive. Honestly, pretty much every major topic falling under the umbrella of *transgender* is present in this wordcloud. **school** refers to both the ohio bill and a florida bathroom bill aimin to restrict transgender students to restrooms corresponding to the gender they were assigned at birth. **sport** and **athlere** refer to various controversies surrounding admission into athletic programs, while **law** and **judge** reflect the legal disputes currently going in involving transgender individuals. Interestingly enough, **woman** is almost as common as **gender** in these articles, while **man** is nowhere to be seen on the wordcloud. This reflects a trend in *transgender* news: transgender women (male-to-female transition) are almost exclusively mentioned in any context. This trend is not merely bias in the news, but seems to reflect a deep cultural discomfort specifically with a male-to-female gender transition. As mentioned in the introduction, transgender *women* receive a disproportionate share of violence directed towards transgender indiviuals, while *black* transgender women receive and even more disproportionate share (Brianna Ghey, murdered at age 16, was a transgender woman). But I digress...\n",
    "\n",
    "### Sub-topics and Categories within the Transgender topic\n",
    "Through the use of clustering and LDA, the transgender news articles were separated into groups, and sub-divided into topics and categories. These categories paint a cleaner picture of the topics of interest relating to *transgender* in the news. LDA specifically created excellent topical sub-divisions within the articles, with topics clearly corresponding to a few key issues in the *transgender* topic.\n",
    "\n",
    "* Transgender Movement and Legal Battles\n",
    "* Recent Statewide bans on Genderaffirming care for minors\n",
    "* Transgender athletes, and specifically transgender women athletes, within all-female sports\n",
    "* Transgender policies within schools, and their effects on minors\n",
    "* The Brianna Ghey Killing\n",
    "\n",
    "### How political affiliation and factuality affects the content of News on the *Transgender* topic\n",
    "Through supervized learning on the Ground News Dataset, I was able to determine if the political slant of a particular news source affected how they covered a particular topic, or if they were more likely to cover a particular story, within the greater *transgender* topic. \n",
    "    -Good Confusion Matrix\n",
    "As you can see, I was able to discern the bias of a particular article on the transgender topic fairly accurately. This indicates that political bias has a strong influence on the content of an article about transgender. But how exactly does this bias influence the article's content?\n",
    "        -SVM Significant Features"
   ]
  },
  {
   "cell_type": "markdown",
   "id": "375e978b-ea9f-444d-8a09-1a87e414b0c7",
   "metadata": {},
   "source": [
    "## Takeaways about Text Mining/Analysis\n",
    "\n",
    "### Data Cleaning & Analysis Are Not Separate Steps\n",
    " *Cleaning* text data refers to transforming that data into a state where it can be easily analyzed by a particular data science technique. Despite its generic-sounding name, this project has shown be that *cleaning* is a highly specialized step which is tightly intertwined with the analytic techniques one is going to use on the data once they have 'cleaned' it. Different types of analysis require different preprocessing steps to work, and you can't separate the cleaning step from the analysis step that will follow it. In my project, I initially transformed the raw corpi into 'clean' word-document matrices in one single step. However, during this step I faced many questions, as mentioned in my **Data Cleaning** tab.\n",
    " \n",
    "* Which text column from each corpus should I use (title, summary, source text)?\r",
    "* \n",
    "Stemmed or lemmatized versions of the text\n",
    "* Should I remove stop-words?\n",
    "* Should I use CountVectorizer or TfidfVectorizer?\n",
    "* How many words should I count as 1 token? (i.e. which value of n for n-grams should I be using?)\n",
    "\n",
    "Without a clear answer to any of these questions, I resolved to make **20**(!) differend Wdms. Of these, I ended up using only 2-3 for later analysis.\n",
    "\n",
    "It turns out that designing these pipelines to be verticle, in which each step from raw corpus to analysis is performed within a single *.ipynb*, is greatly preferable to designing them horizontally.book"
   ]
  },
  {
   "cell_type": "markdown",
   "id": "0365dba3-36a6-4f15-ab4d-dd8675a74ed3",
   "metadata": {},
   "source": [
    "## Overall\n",
    "\n",
    "Overall, this project sheds light on the various topics percolating through the news machine relating to the greater *transgender* topic.\n",
    "It shows the various battle-grounds of the transgender rights movement across the US and highlights sentiment relating to transgender individals here and abroad. It does seem that the news has a preference for frightening or controversial topics, and experience tells me that that is not unique to the *transgender* topic. Unfortunately, the transgender topic is one chalk full of controversy regardless, both political and cultural. The various battlegrounds of the topic are highlighted above.\n",
    "\n",
    "These modern tools for acquisition, cleaning, and analysis of large amount of text data allow one person to gain incredible insights into the cultural zeitgeist of a topic, in real time. A year from now, I have no doubts that the dominant topics relating to *transgender* in the news will have changed significantly, and in a year a researcher can create a corpus of modern news articles, run LDA topic modelling, and produce fascinating visual summaries of those new topics."
   ]
  }
 ],
 "metadata": {
  "kernelspec": {
   "display_name": "Python 3 (ipykernel)",
   "language": "python",
   "name": "python3"
  },
  "language_info": {
   "codemirror_mode": {
    "name": "ipython",
    "version": 3
   },
   "file_extension": ".py",
   "mimetype": "text/x-python",
   "name": "python",
   "nbconvert_exporter": "python",
   "pygments_lexer": "ipython3",
   "version": "3.12.2"
  }
 },
 "nbformat": 4,
 "nbformat_minor": 5
}
