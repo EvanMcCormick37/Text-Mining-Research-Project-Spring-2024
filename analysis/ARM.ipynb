{
 "cells": [
  {
   "cell_type": "markdown",
   "id": "269aa357-0753-47af-bb39-d75c86bbbf89",
   "metadata": {},
   "source": [
    "# Association Rule Mining\n",
    "\n",
    "Association Rule Mining (ARM) is an analysis tool for finding out if certain items in a dataset 'go together'-- i.e. if they are often seen next to each other in an observation. ARM is on 'transaction datasets', datasets where each observation is treated as a group of items. Transaction datasets are similar to word-document matrices, but with some key distinctions. In transaction datasets:\n",
    "\n",
    "    1. Order of items doesn't matter.\n",
    "    2. Frequency of items also doesn't matter, with the exception of 0.\n",
    "\n",
    "In transaction data, each document is considered a set of words, where either a word is present in the document or it isn't. How often a word appears isn't relevant in this data. To perform ARM analysis on my text data, I'll first have to convert it to a transactional dataset."
   ]
  },
  {
   "cell_type": "markdown",
   "id": "79a59030-6e8a-4538-86b3-b99177dc2ffa",
   "metadata": {},
   "source": [
    "# Converting my data to transactional data.\n",
    "\n",
    "To start, I'm going to transform my WDM into a transactional data format, so I can perform ARM on it. I'm going to perform this analysis on the title dataset from WorldNewsAPI, as I think that there could be some interesting relationships revealed from the small batch of words contained within the article titles.\n",
    "\n",
    "Here's my python code for doing this. Since I can't support python and R in one notebook, I'll just display it, but I won't run it here. You can see the result of the code in the `transactions` object being read in afterwards.\n",
    "ws_title.csv')"
   ]
  },
  {
   "cell_type": "markdown",
   "id": "989871e4-8c53-461e-b3ec-a7484e2e2299",
   "metadata": {},
   "source": [
    "### Python Code for creating transaction data\n",
    "```\n",
    "import pandas as pd\n",
    "\n",
    "wdm = pd.read_csv('data/wdms/count/worldnewsapi/lemmed/title.csv',index_col=0)\n",
    "\n",
    "basket_df = pd.DataFrame(columns=['transactions'])\n",
    "for i in range(len(wdm)):\n",
    "    terms=wdm.iloc[i,4:].astype(int)\n",
    "    # For each row, filter that row by x>0, i.e. there is at least one instance of that term in the document.\n",
    "    filter=terms.apply(lambda x:x>0)\n",
    "    terms=terms[filter]\n",
    "    # Then turn the index of the resulting series into a comma separated list to get the basket of terms.\n",
    "    basket = ' '.join(list(terms.index))\n",
    "    basket_df.loc[len(basket_df.index)]=basket\n",
    "\n",
    "basket_df.to_csv('data/transaction/worldnews_title.csv')\n",
    "\n",
    "```"
   ]
  },
  {
   "cell_type": "code",
   "execution_count": 8,
   "id": "fbb337bf-81c5-4734-b428-da1fbe12bd39",
   "metadata": {},
   "outputs": [
    {
     "name": "stderr",
     "output_type": "stream",
     "text": [
      "Warning message:\n",
      "\"package 'arules' is not available (for R version 3.6.1)\"Warning message:\n",
      "\"unable to access index for repository https://cran.r-project.org/bin/windows/contrib/3.6:\n",
      "  cannot open URL 'https://cran.r-project.org/bin/windows/contrib/3.6/PACKAGES'\"also installing the dependencies 'credentials', 'openssl', 'rstudioapi', 'zip', 'gitcreds', 'httr2', 'ini', 'fastmap', 'htmltools', 'jquerylib', 'sass', 'curl', 'systemfonts', 'textshaping', 'diffobj', 'rematch2', 'gert', 'gh', 'rappdirs', 'rprojroot', 'cachem', 'bslib', 'callr', 'downlit', 'httr', 'ragg', 'xml2', 'vctrs', 'xopen', 'brew', 'commonmark', 'purrr', 'cpp11', 'brio', 'digest', 'evaluate', 'jsonlite', 'magrittr', 'praise', 'processx', 'ps', 'R6', 'waldo', 'usethis', 'cli', 'desc', 'ellipsis', 'fs', 'lifecycle', 'memoise', 'miniUI', 'pkgbuild', 'pkgdown', 'pkgload', 'profvis', 'rcmdcheck', 'remotes', 'rlang', 'roxygen2', 'rversions', 'sessioninfo', 'testthat', 'urlchecker', 'withr'\n",
      "\n",
      "Warning message:\n",
      "\"unable to access index for repository https://cran.r-project.org/bin/windows/contrib/3.6:\n",
      "  cannot open URL 'https://cran.r-project.org/bin/windows/contrib/3.6/PACKAGES'\"Packages which are only available in source form, and may need\n",
      "  compilation of C/C++/Fortran: 'openssl' 'zip' 'fastmap' 'htmltools'\n",
      "  'sass' 'curl' 'systemfonts' 'textshaping' 'diffobj' 'gert' 'rappdirs'\n",
      "  'cachem' 'ragg' 'xml2' 'vctrs' 'commonmark' 'purrr' 'brio' 'digest'\n",
      "  'jsonlite' 'magrittr' 'processx' 'ps' 'cli' 'ellipsis' 'fs' 'profvis'\n",
      "  'rlang' 'roxygen2' 'testthat'\n"
     ]
    },
    {
     "name": "stdout",
     "output_type": "stream",
     "text": [
      "  These will not be installed\n"
     ]
    },
    {
     "name": "stderr",
     "output_type": "stream",
     "text": [
      "installing the source packages 'credentials', 'rstudioapi', 'gitcreds', 'httr2', 'ini', 'jquerylib', 'rematch2', 'gh', 'rprojroot', 'bslib', 'callr', 'downlit', 'httr', 'xopen', 'brew', 'cpp11', 'evaluate', 'praise', 'R6', 'waldo', 'usethis', 'desc', 'lifecycle', 'memoise', 'miniUI', 'pkgbuild', 'pkgdown', 'pkgload', 'rcmdcheck', 'remotes', 'rversions', 'sessioninfo', 'urlchecker', 'withr', 'devtools'\n",
      "\n",
      "Warning message in install.packages(\"devtools\"):\n",
      "\"installation of package 'lifecycle' had non-zero exit status\"Warning message in install.packages(\"devtools\"):\n",
      "\"installation of package 'memoise' had non-zero exit status\"Warning message in install.packages(\"devtools\"):\n",
      "\"installation of package 'sessioninfo' had non-zero exit status\"Warning message in install.packages(\"devtools\"):\n",
      "\"installation of package 'httr2' had non-zero exit status\"Warning message in install.packages(\"devtools\"):\n",
      "\"installation of package 'bslib' had non-zero exit status\"Warning message in install.packages(\"devtools\"):\n",
      "\"installation of package 'callr' had non-zero exit status\"Warning message in install.packages(\"devtools\"):\n",
      "\"installation of package 'waldo' had non-zero exit status\"Warning message in install.packages(\"devtools\"):\n",
      "\"installation of package 'gh' had non-zero exit status\"Warning message in install.packages(\"devtools\"):\n",
      "\"installation of package 'downlit' had non-zero exit status\"Warning message in install.packages(\"devtools\"):\n",
      "\"installation of package 'usethis' had non-zero exit status\"Warning message in install.packages(\"devtools\"):\n",
      "\"installation of package 'pkgdown' had non-zero exit status\"Warning message in install.packages(\"devtools\"):\n",
      "\"installation of package 'pkgload' had non-zero exit status\"Warning message in install.packages(\"devtools\"):\n",
      "\"installation of package 'rcmdcheck' had non-zero exit status\"Warning message in install.packages(\"devtools\"):\n",
      "\"installation of package 'devtools' had non-zero exit status\""
     ]
    },
    {
     "ename": "ERROR",
     "evalue": "Error in library(devtools): there is no package called 'devtools'\n",
     "output_type": "error",
     "traceback": [
      "Error in library(devtools): there is no package called 'devtools'\nTraceback:\n",
      "1. library(devtools)"
     ]
    }
   ],
   "source": [
    "install.packages(\"arules\")\n",
    "\n",
    "install.packages(\"devtools\")\n",
    "library(devtools)\n",
    "\n",
    "install.packages(\"TSP\")\n",
    "\n",
    "install.packages(\"data.table\")\n",
    "\n",
    "install.packages(\"sp\")\n",
    "\n",
    "install.packages(\"arulesViz\", dependencies = TRUE)\n",
    "\n",
    "install.packages(\"datasets.load\")\n",
    "\n",
    "library(\"devtools\")\n",
    "install_github(\"mhahsler/arulesViz\")\n",
    "\n",
    "install.packages(\"dplyr\", dependencies = TRUE)\n",
    "install.packages(\"purrr\", dependencies = TRUE)\n",
    "install.packages(\"devtools\", dependencies = TRUE)\n",
    "install.packages(\"tidyr\")\n",
    "\n",
    "install_github(\"mhahsler/arulesViz\")\n",
    "\n",
    "#Reading the transaction data into R with read.transactions\n",
    "transactions <- read.transactions('../data/transaction/worldnews_title.csv',format='basket',row.names=1)\n",
    "head(transactions)"
   ]
  },
  {
   "cell_type": "code",
   "execution_count": null,
   "id": "58d927c6-4f61-4c04-bb4c-035e37d51e28",
   "metadata": {},
   "outputs": [],
   "source": []
  }
 ],
 "metadata": {
  "kernelspec": {
   "display_name": "R",
   "language": "R",
   "name": "ir"
  },
  "language_info": {
   "codemirror_mode": "r",
   "file_extension": ".r",
   "mimetype": "text/x-r-source",
   "name": "R",
   "pygments_lexer": "r",
   "version": "3.6.1"
  }
 },
 "nbformat": 4,
 "nbformat_minor": 5
}
