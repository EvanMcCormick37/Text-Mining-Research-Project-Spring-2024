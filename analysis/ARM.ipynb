{
 "cells": [
  {
   "cell_type": "markdown",
   "id": "269aa357-0753-47af-bb39-d75c86bbbf89",
   "metadata": {},
   "source": [
    "# Association Rule Mining\n",
    "\n",
    "Association Rule Mining (ARM) is an analysis tool for finding out if certain items in a dataset 'go together'-- i.e. if they are often seen next to each other in an observation. ARM is on 'transaction datasets', datasets where each observation is treated as a group of items. Transaction datasets are similar to word-document matrices, but with some key distinctions. In transaction datasets:\n",
    "\n",
    "    1. Order of items doesn't matter.\n",
    "    2. Frequency of items also doesn't matter, with the exception of 0.\n",
    "\n",
    "In transaction data, each document is considered a set of words, where either a word is present in the document or it isn't. How often a word appears isn't relevant in this data. To perform ARM analysis on my text data, I'll first have to convert it to a transactional dataset."
   ]
  },
  {
   "cell_type": "markdown",
   "id": "79a59030-6e8a-4538-86b3-b99177dc2ffa",
   "metadata": {},
   "source": [
    "# Converting my data to transactional data.\n",
    "\n",
    "To start, I'm going to transform my WDM into a transactional data format, so I can perform ARM on it. I'm going to perform this analysis on the title dataset from WorldNewsAPI, as I think that there could be some interesting relationships revealed from the small batch of words contained within the article titles.\n",
    "\n",
    "Here's my python code for doing this. Since I can't support python and R in one notebook, I'll just display it, but I won't run it here. You can see the result of the code in the `transactions` object being read in afterwards.\n",
    "ws_title.csv')"
   ]
  },
  {
   "cell_type": "markdown",
   "id": "23aeaae4-604c-4c44-ad88-f85f612e7a41",
   "metadata": {},
   "source": [
    "### Python Code for creating transaction data\n",
    "```\n",
    "import pandas as pd\n",
    "\n",
    "wdm = pd.read_csv('data/wdms/count/worldnewsapi/lemmed/title.csv',index_col=0)\n",
    "\n",
    "basket_df = pd.DataFrame(columns=['transactions'])\n",
    "for i in range(len(wdm)):\n",
    "    terms=wdm.iloc[i,4:].astype(int)\n",
    "    # For each row, filter that row by x>0, i.e. there is at least one instance of that term in the document.\n",
    "    filter=terms.apply(lambda x:x>0)\n",
    "    terms=terms[filter]\n",
    "    # Then turn the index of the resulting series into a comma separated list to get the basket of terms.\n",
    "    basket = ' '.join(list(terms.index))\n",
    "    basket_df.loc[len(basket_df.index)]=basket\n",
    "\n",
    "basket_df.to_csv('data/transaction/worldnews_title.csv')\n",
    "```\n"
   ]
  },
  {
   "cell_type": "code",
   "execution_count": 33,
   "id": "fbb337bf-81c5-4734-b428-da1fbe12bd39",
   "metadata": {},
   "outputs": [
    {
     "name": "stdout",
     "output_type": "stream",
     "text": [
      "Apriori\n",
      "\n",
      "Parameter specification:\n",
      " confidence minval smax arem  aval originalSupport maxtime support minlen\n",
      "        0.5    0.1    1 none FALSE            TRUE       5   0.007      2\n",
      " maxlen target   ext\n",
      "     10  rules FALSE\n",
      "\n",
      "Algorithmic control:\n",
      " filter tree heap memopt load sort verbose\n",
      "    0.1 TRUE TRUE  FALSE TRUE    2    TRUE\n",
      "\n",
      "Absolute minimum support count: 21 \n",
      "\n",
      "set item appearances ...[0 item(s)] done [0.00s].\n",
      "set transactions ...[3913 item(s), 3102 transaction(s)] done [0.02s].\n",
      "sorting and recoding items ... [154 item(s)] done [0.00s].\n",
      "creating transaction tree ... done [0.00s].\n",
      "checking subsets of size 1 2 3 done [0.00s].\n",
      "writing ... [20 rule(s)] done [0.00s].\n",
      "creating S4 object  ... done [0.00s].\n"
     ]
    }
   ],
   "source": [
    "library(arules)\n",
    "#Reading the transaction data in\n",
    "transactions <- arules::read.transactions('../data/transaction/worldnews_title.csv',format='basket')\n",
    "#Learning some rules about the transactions data\n",
    "FirstRule <- arules::apriori(transactions, parameter = list(support=0.007,\n",
    "                                                    confidence =0.5,\n",
    "                                                    minlen=2))"
   ]
  },
  {
   "cell_type": "code",
   "execution_count": 34,
   "id": "58d927c6-4f61-4c04-bb4c-035e37d51e28",
   "metadata": {},
   "outputs": [
    {
     "name": "stdout",
     "output_type": "stream",
     "text": [
      "     lhs                       rhs        support     confidence lift     count\n",
      "[1]  {hate}                 => {crime}    0.008704062 0.8709677  67.54355 27   \n",
      "[2]  {crime}                => {hate}     0.008704062 0.6750000  67.54355 27   \n",
      "[3]  {murder}               => {ghey}     0.007736944 0.5454545  26.43750 24   \n",
      "[4]  {accused}              => {ghey}     0.007414571 0.5609756  27.18979 23   \n",
      "[5]  {brianna}              => {ghey}     0.012250161 0.7307692  35.41947 38   \n",
      "[6]  {ghey}                 => {brianna}  0.012250161 0.5937500  35.41947 38   \n",
      "[7]  {veto}                 => {governor} 0.008059317 0.5555556  33.14103 25   \n",
      "[8]  {veto}                 => {ohio}     0.009026435 0.6222222  28.80796 28   \n",
      "[9]  {veto}                 => {care}     0.008059317 0.5555556  12.67157 25   \n",
      "[10] {veto}                 => {ban}      0.007736944 0.5333333  11.98841 24   \n",
      "[11] {bathroom}             => {student}  0.008381689 0.5098039  13.51634 26   \n",
      "[12] {high}                 => {school}   0.009671180 0.6000000  14.20763 30   \n",
      "[13] {rule}                 => {court}    0.009348807 0.5087719  11.69045 29   \n",
      "[14] {governor}             => {care}     0.008381689 0.5000000  11.40441 26   \n",
      "[15] {supreme}              => {court}    0.014829142 0.6969697  16.01481 46   \n",
      "[16] {genderaffirming}      => {care}     0.020631850 0.6666667  15.20588 64   \n",
      "[17] {care}                 => {ban}      0.022243714 0.5073529  11.40441 69   \n",
      "[18] {ban}                  => {care}     0.022243714 0.5000000  11.40441 69   \n",
      "[19] {care,genderaffirming} => {ban}      0.010638298 0.5156250  11.59035 33   \n",
      "[20] {ban,genderaffirming}  => {care}     0.010638298 1.0000000  22.80882 33   \n"
     ]
    },
    {
     "data": {
      "text/plain": [
       "set of 20 rules\n",
       "\n",
       "rule length distribution (lhs + rhs):sizes\n",
       " 2  3 \n",
       "18  2 \n",
       "\n",
       "   Min. 1st Qu.  Median    Mean 3rd Qu.    Max. \n",
       "    2.0     2.0     2.0     2.1     2.0     3.0 \n",
       "\n",
       "summary of quality measures:\n",
       "    support           confidence          lift           count      \n",
       " Min.   :0.007415   Min.   :0.5000   Min.   :11.40   Min.   :23.00  \n",
       " 1st Qu.:0.008301   1st Qu.:0.5142   1st Qu.:11.91   1st Qu.:25.75  \n",
       " Median :0.009188   Median :0.5583   Median :15.61   Median :28.50  \n",
       " Mean   :0.011348   Mean   :0.6124   Mean   :24.27   Mean   :35.20  \n",
       " 3rd Qu.:0.012250   3rd Qu.:0.6687   3rd Qu.:29.89   3rd Qu.:38.00  \n",
       " Max.   :0.022244   Max.   :1.0000   Max.   :67.54   Max.   :69.00  \n",
       "\n",
       "mining info:\n",
       "         data ntransactions support confidence\n",
       " transactions          3102   0.007        0.5"
      ]
     },
     "metadata": {},
     "output_type": "display_data"
    }
   ],
   "source": [
    "inspect(FirstRule)\n",
    "\n",
    "SortedRules1 <- sort(FirstRule, by=\"support\", decreasing=TRUE)\n",
    "(summary(SortedRules1))"
   ]
  },
  {
   "cell_type": "markdown",
   "id": "785d1092-fcb6-4b7c-a663-326d2d6d9cf1",
   "metadata": {},
   "source": [
    "# First Thoughts\n",
    "\n",
    "Association-Rule Mining has found some common themes in these titles by association. Firstly, it's noticing the Brianna Ghey killing as a distinct set of stories, and picking up the words making up those headlines. It's also revealing a common headline about pushes to 'ban genderaffirming care', and the ohio bill which was vetoed by the Ohio governer. We can see the supreme court getting shoutouts in fome of these stories too, and of course there's the high-school bathroom bill which is the subject of some stories, and is probably responsible for the pairs 'high->school' and 'student->bathroom'.\n",
    "\n",
    "Let's dig a bit deeper and apply ARM to the text.\n",
    "\n",
    "#### Now, let's apply the same process to the text."
   ]
  },
  {
   "cell_type": "code",
   "execution_count": 39,
   "id": "98dc6499-e396-40d8-8904-0b242d06bcfc",
   "metadata": {},
   "outputs": [
    {
     "name": "stdout",
     "output_type": "stream",
     "text": [
      "Apriori\n",
      "\n",
      "Parameter specification:\n",
      " confidence minval smax arem  aval originalSupport maxtime support minlen\n",
      "       0.95    0.1    1 none FALSE            TRUE       5    0.07      2\n",
      " maxlen target   ext\n",
      "     10  rules FALSE\n",
      "\n",
      "Algorithmic control:\n",
      " filter tree heap memopt load sort verbose\n",
      "    0.1 TRUE TRUE  FALSE TRUE    2    TRUE\n",
      "\n",
      "Absolute minimum support count: 217 \n",
      "\n",
      "set item appearances ...[0 item(s)] done [0.00s].\n",
      "set transactions ...[12206 item(s), 3102 transaction(s)] done [0.26s].\n",
      "sorting and recoding items ... [769 item(s)] done [0.02s].\n",
      "creating transaction tree ... done [0.00s].\n",
      "checking subsets of size 1 2 3 4 5 6 7 8 done [1.85s].\n",
      "writing ... [10185 rule(s)] done [0.03s].\n",
      "creating S4 object  ... done [0.01s].\n"
     ]
    }
   ],
   "source": [
    "#Reading the transaction data in\n",
    "transactions <- arules::read.transactions('../data/transaction/worldnews_text.csv',format='basket')\n",
    "#Learning some rules about the transactions data\n",
    "FirstRule <- arules::apriori(transactions, parameter = list(support=0.07,\n",
    "                                                    confidence=0.95,\n",
    "                                                    minlen=2))"
   ]
  },
  {
   "cell_type": "code",
   "execution_count": 46,
   "id": "5b691505-d32c-4e09-9c15-c309ed27b04e",
   "metadata": {},
   "outputs": [
    {
     "name": "stdout",
     "output_type": "stream",
     "text": [
      "     lhs                                    rhs           support   confidence\n",
      "[1]  {identity,state}                    => {gender}      0.2159897 0.9517045 \n",
      "[2]  {added,gender}                      => {transgender} 0.1708575 0.9532374 \n",
      "[3]  {identity,people,state}             => {gender}      0.1698904 0.9547101 \n",
      "[4]  {change,told}                       => {transgender} 0.1682785 0.9508197 \n",
      "[5]  {identity,right,state}              => {gender}      0.1592521 0.9648438 \n",
      "[6]  {identity,law,people}               => {gender}      0.1579626 0.9533074 \n",
      "[7]  {added,people,year}                 => {transgender} 0.1566731 0.9548134 \n",
      "[8]  {identity,state,year}               => {gender}      0.1560284 0.9546351 \n",
      "[9]  {life,people,told}                  => {transgender} 0.1534494 0.9558233 \n",
      "[10] {identity,people,state,transgender} => {gender}      0.1521599 0.9516129 \n",
      "[11] {care,identity}                     => {gender}      0.1476467 0.9521830 \n",
      "[12] {identity,law,state}                => {gender}      0.1463572 0.9659574 \n",
      "[13] {identity,law,right}                => {gender}      0.1453901 0.9636752 \n",
      "[14] {added,say}                         => {transgender} 0.1428111 0.9568035 \n",
      "[15] {identity,law,people,transgender}   => {gender}      0.1421663 0.9566161 \n",
      "[16] {say,told,want}                     => {transgender} 0.1415216 0.9564270 \n",
      "[17] {identity,right,state,transgender}  => {gender}      0.1402321 0.9623894 \n",
      "[18] {added,just,people}                 => {transgender} 0.1399097 0.9559471 \n",
      "[19] {child,identity,state}              => {gender}      0.1395874 0.9579646 \n",
      "[20] {later,told}                        => {transgender} 0.1392650 0.9578714 \n",
      "[21] {identity,state,transgender,year}   => {gender}      0.1392650 0.9515419 \n",
      "[22] {added,people,trans}                => {transgender} 0.1389426 0.9535398 \n",
      "[23] {life,told,year}                    => {transgender} 0.1386202 0.9534368 \n",
      "[24] {added,people,woman}                => {transgender} 0.1379755 0.9532294 \n",
      "[25] {added,people,told}                 => {transgender} 0.1376531 0.9595506 \n",
      "[26] {added,gender,people}               => {transgender} 0.1344294 0.9720280 \n",
      "[27] {identity,policy,right}             => {gender}      0.1341070 0.9519451 \n",
      "[28] {government,identity}               => {gender}      0.1328175 0.9515012 \n",
      "[29] {people,told,want,year}             => {transgender} 0.1328175 0.9537037 \n",
      "[30] {people,policy,told}                => {transgender} 0.1321728 0.9557110 \n",
      "     lift     count\n",
      "[1]  1.550519 670  \n",
      "[2]  1.135975 530  \n",
      "[3]  1.555415 527  \n",
      "[4]  1.133094 522  \n",
      "[5]  1.571925 494  \n",
      "[6]  1.553130 490  \n",
      "[7]  1.137853 486  \n",
      "[8]  1.555293 484  \n",
      "[9]  1.139056 476  \n",
      "[10] 1.550369 472  \n",
      "[11] 1.551298 458  \n",
      "[12] 1.573739 454  \n",
      "[13] 1.570021 451  \n",
      "[14] 1.140224 443  \n",
      "[15] 1.558520 441  \n",
      "[16] 1.139776 439  \n",
      "[17] 1.567926 435  \n",
      "[18] 1.139204 434  \n",
      "[19] 1.560718 433  \n",
      "[20] 1.141497 432  \n",
      "[21] 1.550254 432  \n",
      "[22] 1.136335 431  \n",
      "[23] 1.136212 430  \n",
      "[24] 1.135965 428  \n",
      "[25] 1.143498 427  \n",
      "[26] 1.158368 417  \n",
      "[27] 1.550911 416  \n",
      "[28] 1.550187 412  \n",
      "[29] 1.136530 412  \n",
      "[30] 1.138923 410  \n"
     ]
    },
    {
     "data": {
      "text/plain": [
       "set of 30 rules\n",
       "\n",
       "rule length distribution (lhs + rhs):sizes\n",
       " 3  4  5 \n",
       " 7 18  5 \n",
       "\n",
       "   Min. 1st Qu.  Median    Mean 3rd Qu.    Max. \n",
       "  3.000   4.000   4.000   3.933   4.000   5.000 \n",
       "\n",
       "summary of quality measures:\n",
       "    support         confidence          lift           count      \n",
       " Min.   :0.1322   Min.   :0.9508   Min.   :1.133   Min.   :410.0  \n",
       " 1st Qu.:0.1387   1st Qu.:0.9532   1st Qu.:1.139   1st Qu.:430.2  \n",
       " Median :0.1418   Median :0.9548   Median :1.354   Median :440.0  \n",
       " Mean   :0.1481   Mean   :0.9563   Mean   :1.349   Mean   :459.5  \n",
       " 3rd Qu.:0.1554   3rd Qu.:0.9576   3rd Qu.:1.555   3rd Qu.:482.0  \n",
       " Max.   :0.2160   Max.   :0.9720   Max.   :1.574   Max.   :670.0  \n",
       "\n",
       "mining info:\n",
       "         data ntransactions support confidence\n",
       " transactions          3102    0.07       0.95"
      ]
     },
     "metadata": {},
     "output_type": "display_data"
    }
   ],
   "source": [
    "SortedRules <- sort(FirstRule, by=\"support\", decreasing=TRUE)\n",
    "inspect(SortedRules[1:30])\n",
    "(summary(SortedRules))"
   ]
  },
  {
   "cell_type": "markdown",
   "id": "4a33516f-ac16-4c25-83a9-c8dfb13d9088",
   "metadata": {},
   "source": [
    "# Takeaways\n",
    "\n",
    "It looks like the most common rules in the dataset have to do with the associations with 'gender' and 'transgender'. This tracks, given the overall topic of the dataset is ***transgender***. However, these connections also give us a sense of what people in the news associate **transgender** with. Some of the associated words are:\n",
    "\n",
    "    added, people, year, life, told, policy, just, want\n",
    "\n",
    "while the associations with **gender** include\n",
    "\n",
    "    identity, policy, law, government, right, child, state\n",
    "\n",
    "Frankly, these sets of words provide better connotations with transgender and gender than I can hope to create. If I attempted to summarize them, I would in fact be doing the opposite. I guess I'll try anyways: The **transgender** associations seem to relate to a recent push by transgender people to change policy this year. There are time related words, words signifying desire, and action words like `told` and `added`. Meanwhile, the words associated with **gender** indicate that gender is somewhat dictated by government and law, but is also considered a personal identity and a right.\n",
    "\n",
    "One issue with these rules is that while they are prevalent, they aren't very strong. `Lift` is a measure of how strongly correlated two more terms are in a text, i.e. how much one of the terms being present raises the probability of another term occurring. Lift is commonly used to check the validity of associations in ARM, with a high lift indicating that the terms truly are linked to one another, and a lift of 1 indicating that the terms are in fact, not correlated with each other at all. While the rules I inspected so far have a lot of support, they don't have a great amount of lift, with lift scores ranging between `1.1` and `1.6`. So...\n",
    "\n",
    "#### ...let's look at the same rules, sorted by lift."
   ]
  },
  {
   "cell_type": "code",
   "execution_count": 48,
   "id": "58044da3-c85f-404e-a758-4f033e676592",
   "metadata": {},
   "outputs": [
    {
     "name": "stdout",
     "output_type": "stream",
     "text": [
      "     lhs                              rhs       support    confidence lift    \n",
      "[1]  {click,fox}                   => {app}     0.07672469 0.9875519  8.169029\n",
      "[2]  {click,fox,news}              => {app}     0.07672469 0.9875519  8.169029\n",
      "[3]  {app,fox}                     => {click}   0.07672469 0.9596774  8.089455\n",
      "[4]  {app,fox,news}                => {click}   0.07672469 0.9596774  8.089455\n",
      "[5]  {blocker,genderaffirming}     => {puberty} 0.07350097 0.9870130  6.542125\n",
      "[6]  {blocker,care,medical}        => {puberty} 0.07188910 0.9867257  6.540220\n",
      "[7]  {blocker,minor}               => {puberty} 0.07898130 0.9839357  6.521728\n",
      "[8]  {blocker,law}                 => {puberty} 0.07640232 0.9834025  6.518193\n",
      "[9]  {blocker,child,minor}         => {puberty} 0.07188910 0.9823789  6.511409\n",
      "[10] {blocker,hormone,minor}       => {puberty} 0.07156673 0.9823009  6.510892\n",
      "[11] {blocker,surgery}             => {puberty} 0.07543520 0.9750000  6.462500\n",
      "[12] {blocker,child,medical}       => {puberty} 0.07446809 0.9746835  6.460402\n",
      "[13] {blocker,hormone,medical}     => {puberty} 0.07317859 0.9742489  6.457522\n",
      "[14] {blocker,care}                => {puberty} 0.08478401 0.9740741  6.456363\n",
      "[15] {blocker,medical,transgender} => {puberty} 0.07124436 0.9735683  6.453010\n",
      "[16] {blocker,medical}             => {puberty} 0.08156028 0.9730769  6.449753\n",
      "[17] {blocker,state}               => {puberty} 0.08671825 0.9711191  6.436777\n",
      "[18] {blocker,care,hormone}        => {puberty} 0.07575758 0.9710744  6.436480\n",
      "[19] {blocker,child,state}         => {puberty} 0.07543520 0.9709544  6.435685\n",
      "[20] {blocker,care,child}          => {puberty} 0.07479046 0.9707113  6.434074\n",
      "[21] {blocker,care,transgender}    => {puberty} 0.07446809 0.9705882  6.433258\n",
      "[22] {blocker,gender,state}        => {puberty} 0.07285622 0.9699571  6.429075\n",
      "[23] {blocker,care,gender}         => {puberty} 0.07027724 0.9688889  6.421994\n",
      "[24] {blocker,state,transgender}   => {puberty} 0.07575758 0.9670782  6.409993\n",
      "[25] {blocker,hormone,state}       => {puberty} 0.07446809 0.9665272  6.406341\n",
      "[26] {blocker,treatment}           => {puberty} 0.07640232 0.9634146  6.385710\n",
      "[27] {blocker,health}              => {puberty} 0.07962605 0.9610895  6.370298\n",
      "[28] {blocker,child}               => {puberty} 0.09509994 0.9609121  6.369122\n",
      "[29] {blocker,child,transgender}   => {puberty} 0.08413926 0.9595588  6.360153\n",
      "[30] {blocker,child,gender}        => {puberty} 0.07994842 0.9575290  6.346698\n",
      "     count\n",
      "[1]  238  \n",
      "[2]  238  \n",
      "[3]  238  \n",
      "[4]  238  \n",
      "[5]  228  \n",
      "[6]  223  \n",
      "[7]  245  \n",
      "[8]  237  \n",
      "[9]  223  \n",
      "[10] 222  \n",
      "[11] 234  \n",
      "[12] 231  \n",
      "[13] 227  \n",
      "[14] 263  \n",
      "[15] 221  \n",
      "[16] 253  \n",
      "[17] 269  \n",
      "[18] 235  \n",
      "[19] 234  \n",
      "[20] 232  \n",
      "[21] 231  \n",
      "[22] 226  \n",
      "[23] 218  \n",
      "[24] 235  \n",
      "[25] 231  \n",
      "[26] 237  \n",
      "[27] 247  \n",
      "[28] 295  \n",
      "[29] 261  \n",
      "[30] 248  \n"
     ]
    },
    {
     "data": {
      "text/plain": [
       "set of 10185 rules\n",
       "\n",
       "rule length distribution (lhs + rhs):sizes\n",
       "   2    3    4    5    6    7    8 \n",
       "   6  268 2081 4458 2868  494   10 \n",
       "\n",
       "   Min. 1st Qu.  Median    Mean 3rd Qu.    Max. \n",
       "  2.000   5.000   5.000   5.123   6.000   8.000 \n",
       "\n",
       "summary of quality measures:\n",
       "    support          confidence          lift           count      \n",
       " Min.   :0.07028   Min.   :0.9500   Min.   :1.132   Min.   :218.0  \n",
       " 1st Qu.:0.07253   1st Qu.:0.9530   1st Qu.:1.145   1st Qu.:225.0  \n",
       " Median :0.07544   Median :0.9568   Median :1.339   Median :234.0  \n",
       " Mean   :0.07852   Mean   :0.9587   Mean   :1.377   Mean   :243.6  \n",
       " 3rd Qu.:0.08124   3rd Qu.:0.9623   3rd Qu.:1.355   3rd Qu.:252.0  \n",
       " Max.   :0.21599   Max.   :1.0000   Max.   :8.169   Max.   :670.0  \n",
       "\n",
       "mining info:\n",
       "         data ntransactions support confidence\n",
       " transactions          3102    0.07       0.95"
      ]
     },
     "metadata": {},
     "output_type": "display_data"
    }
   ],
   "source": [
    "SortedRules <- sort(FirstRule, by=\"lift\", decreasing=TRUE)\n",
    "inspect(SortedRules[1:30])\n",
    "(summary(SortedRules))"
   ]
  },
  {
   "cell_type": "markdown",
   "id": "16423823-2d2c-4d18-b6a2-095e3b718c70",
   "metadata": {},
   "source": [
    "#### We found a new association!\n",
    "\n",
    "It seems that the associations with the greatest lift involve the word `puberty`. Well, the second greatest-- it seems that `Fox News` put an advertisement for their app in the text of all of their news stories, and that snagged the number one spot.\n",
    "\n",
    "But it appears that `puberty` only occurs in the discussion of a particular topic:\n",
    "\n",
    "    hormone, blocker, surgery, genderaffirming, treatment, medical, care, child, minor\n",
    "\n",
    "Clearly, gender-affirming care *during puberty* is a main subject of a cluster of stories relating to transgender rights, but only that subset of topics."
   ]
  },
  {
   "cell_type": "markdown",
   "id": "512ac277-b16b-4006-bf4c-0ccffe930ed3",
   "metadata": {},
   "source": [
    "# Takeaways\n",
    "\n",
    "Overall, we found some interesting lingual associations with key words in the transgender rights topic.\n",
    "\n",
    "It seems like Association-Rule Mining is extremely useful for finding the connotations betwen specific words within a set of documents. It's telling us what, on average, the people writing these articles think about `puberty, gender, and transgender`. There could be more useful associations hidden within the text, or, more interestingly, within sorted clusters of text."
   ]
  }
 ],
 "metadata": {
  "kernelspec": {
   "display_name": "R",
   "language": "R",
   "name": "ir"
  },
  "language_info": {
   "codemirror_mode": "r",
   "file_extension": ".r",
   "mimetype": "text/x-r-source",
   "name": "R",
   "pygments_lexer": "r",
   "version": "3.6.1"
  }
 },
 "nbformat": 4,
 "nbformat_minor": 5
}
