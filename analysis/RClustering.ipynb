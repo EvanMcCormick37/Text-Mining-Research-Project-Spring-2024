{
 "cells": [
  {
   "cell_type": "markdown",
   "id": "ec5bcfe0-98b8-4d3e-97d1-31c8fd8c74a5",
   "metadata": {},
   "source": [
    "### Hierarchical Clustering\n",
    "\n",
    "One issue with K-means clustering is that it requires a predetermined number of clusters. What if you don't know how many clusters are in your data? Hierarchical Clustering allows the researcher to build a hierarchical tree linking the data points, and then determine the number and composition of clusters using a distance metric.\n",
    "\n",
    "For this analysis, I'm going to build a Hierarchical Cluster using the WorldNewsAPI title TFIDF dataset, to see if I can cluster the articles based on topic."
   ]
  },
  {
   "cell_type": "code",
   "execution_count": 1,
   "id": "2a78259c-ff78-4f77-82e7-8c591cd2d57c",
   "metadata": {},
   "outputs": [
    {
     "name": "stderr",
     "output_type": "stream",
     "text": [
      "Registered S3 methods overwritten by 'ggplot2':\n",
      "  method         from \n",
      "  [.quosures     rlang\n",
      "  c.quosures     rlang\n",
      "  print.quosures rlang\n"
     ]
    },
    {
     "ename": "ERROR",
     "evalue": "Error: package or namespace load failed for 'ggplot2':\n .onAttach failed in attachNamespace() for 'ggplot2', details:\n  call: NULL\n  error: .onLoad failed in loadNamespace() for 'withr', details:\n  call: unlockBinding(\"defer\", <environment>)\n  error: no binding for \"defer\"\n",
     "output_type": "error",
     "traceback": [
      "Error: package or namespace load failed for 'ggplot2':\n .onAttach failed in attachNamespace() for 'ggplot2', details:\n  call: NULL\n  error: .onLoad failed in loadNamespace() for 'withr', details:\n  call: unlockBinding(\"defer\", <environment>)\n  error: no binding for \"defer\"\nTraceback:\n",
      "1. library(ggplot2)",
      "2. tryCatch({\n .     attr(package, \"LibPath\") <- which.lib.loc\n .     ns <- loadNamespace(package, lib.loc)\n .     env <- attachNamespace(ns, pos = pos, deps, exclude, include.only)\n . }, error = function(e) {\n .     P <- if (!is.null(cc <- conditionCall(e))) \n .         paste(\" in\", deparse(cc)[1L])\n .     else \"\"\n .     msg <- gettextf(\"package or namespace load failed for %s%s:\\n %s\", \n .         sQuote(package), P, conditionMessage(e))\n .     if (logical.return) \n .         message(paste(\"Error:\", msg), domain = NA)\n .     else stop(msg, call. = FALSE, domain = NA)\n . })",
      "3. tryCatchList(expr, classes, parentenv, handlers)",
      "4. tryCatchOne(expr, names, parentenv, handlers[[1L]])",
      "5. value[[3L]](cond)",
      "6. stop(msg, call. = FALSE, domain = NA)"
     ]
    }
   ],
   "source": [
    "library(ggplot2)\n",
    "library(lsa)\n",
    "library(tidyverse)\n",
    "worldnews_title <- read.csv('../data/wdms/tfidf/worldnewsapi/lemmed/title.csv',row.names=1)\n",
    "worldnews_text <- read.csv('../data/wdms/tfidf/worldnewsapi/lemmed/text.csv',row.names=1)\n",
    "wdm1 <- apply(as.matrix(worldnews_title[,6:ncol(worldnews_title)]),1,replace_na,0)\n",
    "wdm2 <- apply(as.matrix(worldnews_text[,6:ncol(worldnews_text)]),1,replace_na,0)\n",
    "head(wdm1)\n",
    "head(wdm2)"
   ]
  },
  {
   "cell_type": "code",
   "execution_count": null,
   "id": "d8ca5094-1b7e-4bab-8755-f30df0dd8a36",
   "metadata": {},
   "outputs": [],
   "source": [
    "#Cosine produces a similarity matrix, must first convert to distance matrix\n",
    "cosdist <- function(wdm){as.dist(apply(10**(1-cosine(wdm)),1,replace_na,10))}\n",
    "dist1 <- cosdist(wdm1)\n",
    "dist2 <- cosdist(wdm2)"
   ]
  },
  {
   "cell_type": "code",
   "execution_count": null,
   "id": "50f29939-72a2-480d-b1b6-2b7abd33620c",
   "metadata": {},
   "outputs": [],
   "source": [
    "clust1 <- hclust(dist1)\n",
    "plot(clust1,labels=FALSE)"
   ]
  },
  {
   "cell_type": "code",
   "execution_count": null,
   "id": "25d85e43-c82e-4fa9-8afc-04c0919eb3bc",
   "metadata": {},
   "outputs": [],
   "source": [
    "clust2 <- hclust(dist2)\n",
    "plot(clust2,labels=FALSE)"
   ]
  },
  {
   "cell_type": "code",
   "execution_count": null,
   "id": "5a7cfb49-69fe-4f5c-ad2a-78f9f3ef19e4",
   "metadata": {},
   "outputs": [],
   "source": [
    "labels <- cutree(clust2,k=10)\n",
    "worldnews_text$hclust <- labels\n",
    "head(worldnews_text)"
   ]
  },
  {
   "cell_type": "code",
   "execution_count": null,
   "id": "13cbb373-826c-4736-a988-39c675258441",
   "metadata": {},
   "outputs": [],
   "source": [
    "total <- apply(wdm2,1,sum)\n",
    "for(l in 1:10){\n",
    "    # Create a df by summing the tfidf scores within each document cluster, and dividing by the tfidf scores across the whole corpus.\n",
    "    # This gives a metric showing which terms appear disproportionately often in each group compared to the corpus overall.\n",
    "    wdm_l <- as.data.frame(cbind(rownames(wdm2),apply(wdm2[,worldnews_text$hclust==l],1,sum)/total),row.names=rownames(wdm2))\n",
    "    colnames(wdm_l) <- c('term','tfidf')\n",
    "    wdm_l <- wdm_l %>%\n",
    "        arrange(desc(tfidf))\n",
    "    ggplot(aes(x=wdm_l$term,y=wdm_l$tfidf)) +\n",
    "    geom_bar(stat=\"identity\", fill=\"#f68060\", alpha=.6, width=.4) +\n",
    "    coord_flip() +\n",
    "    xlab(\"\") +\n",
    "    theme_bw()\n",
    "    }"
   ]
  },
  {
   "cell_type": "code",
   "execution_count": null,
   "id": "cf20d001-b487-4b2c-b5b7-59ed241cf141",
   "metadata": {},
   "outputs": [],
   "source": []
  },
  {
   "cell_type": "code",
   "execution_count": null,
   "id": "1113bf44-46b2-4a94-af20-0426343dffc8",
   "metadata": {},
   "outputs": [],
   "source": []
  }
 ],
 "metadata": {
  "kernelspec": {
   "display_name": "R",
   "language": "R",
   "name": "ir"
  },
  "language_info": {
   "codemirror_mode": "r",
   "file_extension": ".r",
   "mimetype": "text/x-r-source",
   "name": "R",
   "pygments_lexer": "r",
   "version": "3.6.1"
  }
 },
 "nbformat": 4,
 "nbformat_minor": 5
}
